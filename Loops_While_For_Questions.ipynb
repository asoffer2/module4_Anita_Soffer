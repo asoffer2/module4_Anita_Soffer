{
  "cells": [
    {
      "cell_type": "markdown",
      "metadata": {
        "id": "view-in-github",
        "colab_type": "text"
      },
      "source": [
        "<a href=\"https://colab.research.google.com/github/asoffer2/module4_Anita_Soffer/blob/main/Loops_While_For_Questions.ipynb\" target=\"_parent\"><img src=\"https://colab.research.google.com/assets/colab-badge.svg\" alt=\"Open In Colab\"/></a>"
      ]
    },
    {
      "cell_type": "markdown",
      "id": "7d25b115",
      "metadata": {
        "id": "7d25b115"
      },
      "source": [
        "\n",
        "# While & For Mastery — Syntax, Patterns, and Programs\n",
        "\n",
        "**Name:** _Anita Soffer_  \n",
        "**Course:** _Intro to Programming_  \n",
        "**Date:** _2025-10-05_\n",
        "\n",
        "**Learning goals**\n",
        "- Reintroduce the **syntax** and core **patterns** for `while` and `for` loops.\n",
        "- Use loops with **decision structures** (`if/elif/else`) and **`try/except`** for input validation.\n",
        "- Write non-trivial programs that require **reasoning**, not just template filling.\n",
        "- Practice **PEP 8** style: naming, whitespace, docstrings, and helpful comments. - SO PLEASE DO PEP 8 ASSIGNMENT FIRST\n",
        "\n",
        "\n",
        "**IDE usage**\n",
        "- Feel free to work within an IDE (PyCharm or IDLE) if you feel more comfortable, copying and pasting the answers here"
      ]
    },
    {
      "cell_type": "markdown",
      "source": [],
      "metadata": {
        "id": "co4zaM_oHdBi"
      },
      "id": "co4zaM_oHdBi"
    },
    {
      "cell_type": "markdown",
      "id": "02124153",
      "metadata": {
        "id": "02124153"
      },
      "source": [
        "\n",
        "## Part 0 — Quick Reference (Read & Run)\n",
        "\n",
        "### `for` loop (iterate over a sequence)\n",
        "```python\n",
        "for item in iterable:\n",
        "    # do something with item\n",
        "```\n",
        "\n",
        "### `while` loop (repeat until a condition changes)\n",
        "```python\n",
        "while condition:\n",
        "    # body\n",
        "```\n",
        "\n",
        "### Useful keywords\n",
        "- `break` — exit the nearest loop immediately  \n",
        "- `continue` — skip to next iteration  \n",
        "- `else` on loops — runs if the loop **didn't** `break`\n"
      ]
    },
    {
      "cell_type": "markdown",
      "id": "884708c5",
      "metadata": {
        "id": "884708c5"
      },
      "source": [
        "\n",
        "## Demo 1 — `for` Loop Fundamentals\n",
        "- Iterating lists/strings\n",
        "- Using `range(start, stop, step)`\n",
        "- Tracking indices with `enumerate`\n"
      ]
    },
    {
      "cell_type": "code",
      "execution_count": null,
      "id": "a9210b06",
      "metadata": {
        "id": "a9210b06",
        "colab": {
          "base_uri": "https://localhost:8080/"
        },
        "outputId": "2950eabc-2675-4f91-8379-d70e0b6c6a81"
      },
      "outputs": [
        {
          "output_type": "stream",
          "name": "stdout",
          "text": [
            "KOL\n",
            "NIDRE\n",
            "TEFILAH\n",
            "---\n",
            "2 4 6 8 10 \n",
            "---\n",
            "0: kol\n",
            "1: nidre\n",
            "2: tefilah\n"
          ]
        }
      ],
      "source": [
        "\n",
        "words = [\"kol\", \"nidre\", \"tefilah\"]\n",
        "\n",
        "# Basic iteration\n",
        "for w in words:\n",
        "    print(w.upper())\n",
        "\n",
        "print(\"---\")\n",
        "\n",
        "# Ranges\n",
        "for k in range(2, 11, 2):\n",
        "    print(k, end=\" \")\n",
        "print(\"\\n---\")\n",
        "\n",
        "# Enumerate for index + value\n",
        "for i, w in enumerate(words):\n",
        "    print(f\"{i}: {w}\")\n"
      ]
    },
    {
      "cell_type": "markdown",
      "id": "872c060a",
      "metadata": {
        "id": "872c060a"
      },
      "source": [
        "\n",
        "## Demo 2 — `while` Loop Fundamentals\n",
        "- Sentinel loops (stop when user types `done`)\n",
        "- Guarded updates to prevent infinite loops\n"
      ]
    },
    {
      "cell_type": "code",
      "execution_count": 15,
      "id": "a16ab540",
      "metadata": {
        "id": "a16ab540",
        "colab": {
          "base_uri": "https://localhost:8080/"
        },
        "outputId": "8816067a-7fc1-4eb5-dfdc-1c7c1bbd0d7c"
      },
      "outputs": [
        {
          "output_type": "stream",
          "name": "stdout",
          "text": [
            "Enter a number (or 'done'): done\n",
            "No numbers entered.\n"
          ]
        }
      ],
      "source": [
        "\n",
        "# Sentinel-controlled input loop\n",
        "# Type numbers; type 'done' to stop. We sum only valid numbers.\n",
        "total = 0.0\n",
        "count = 0\n",
        "\n",
        "while True:\n",
        "    raw = input(\"Enter a number (or 'done'): \").strip().lower()\n",
        "    if raw == \"done\":\n",
        "        break\n",
        "    try:\n",
        "        num = float(raw)\n",
        "    except ValueError:\n",
        "        print(\"Not a number — try again.\")\n",
        "        continue\n",
        "    total += num\n",
        "    count += 1\n",
        "\n",
        "if count > 0:\n",
        "    print(\"Average:\", total / count)\n",
        "else:\n",
        "    print(\"No numbers entered.\")\n"
      ]
    },
    {
      "cell_type": "markdown",
      "id": "4f729477",
      "metadata": {
        "id": "4f729477"
      },
      "source": [
        "\n",
        "## Demo 3 — Try/Except + Decisions in Loops\n",
        "- Validate input in a loop\n",
        "- Use `if/elif/else` for branching behavior\n"
      ]
    },
    {
      "cell_type": "code",
      "execution_count": 9,
      "id": "ef5f1557",
      "metadata": {
        "id": "ef5f1557",
        "colab": {
          "base_uri": "https://localhost:8080/"
        },
        "outputId": "5cc74a79-bedc-4c12-c76f-3141a17c8941"
      },
      "outputs": [
        {
          "output_type": "stream",
          "name": "stdout",
          "text": [
            "Pick an integer from 1 to 10: \n",
            "Please enter an integer.\n",
            "Pick an integer from 1 to 10: \n",
            "Please enter an integer.\n",
            "Pick an integer from 1 to 10: \n",
            "Please enter an integer.\n",
            "No valid choice made. Exiting.\n"
          ]
        }
      ],
      "source": [
        "\n",
        "# Ask for an integer 1..10 with limited attempts.\n",
        "MAX_ATTEMPTS = 3\n",
        "attempts = 0\n",
        "value = None\n",
        "\n",
        "while attempts < MAX_ATTEMPTS:\n",
        "    try:\n",
        "        guess = int(input(\"Pick an integer from 1 to 10: \"))\n",
        "    except ValueError:\n",
        "        print(\"Please enter an integer.\")\n",
        "        attempts += 1\n",
        "        continue\n",
        "\n",
        "    if 1 <= guess <= 10:\n",
        "        value = guess\n",
        "        print(\"Thanks! You chose:\", value)\n",
        "        break\n",
        "    else:\n",
        "        print(\"Out of range.\")\n",
        "        attempts += 1\n",
        "\n",
        "if value is None:\n",
        "    print(\"No valid choice made. Exiting.\")\n"
      ]
    },
    {
      "cell_type": "markdown",
      "id": "4a3c313f",
      "metadata": {
        "id": "4a3c313f"
      },
      "source": [
        "\n",
        "## Patterns & Pitfalls\n",
        "- Prefer `for` for known collections/ranges; `while` for open-ended/state-driven loops.\n",
        "- Always **advance the loop state** in a `while` (avoid infinite loops).\n",
        "- Use **sentinels** like `'done'` to end user input.\n",
        "- Extract **helpers** with docstrings for single-purpose blocks.\n",
        "- Keep lines ≤ 79–99 characters and space around operators appropriately.\n"
      ]
    },
    {
      "cell_type": "markdown",
      "id": "05823ceb",
      "metadata": {
        "id": "05823ceb"
      },
      "source": [
        "\n",
        "## Program 1 — Running Statistics (Sentinel + Validation)\n",
        "\n",
        "**Write:** `stats_loop()` that repeatedly reads numbers from the user until they type `'done'`.  \n",
        "- Use `try/except` to validate input. Ignore invalid entries (warn and continue).  \n",
        "- Track **count, min, max, sum, average**.  \n",
        "- At the end, print a one-line summary like:  \n",
        "  `count=5 min=2.0 max=14.5 sum=33.0 avg=6.6`\n",
        "\n",
        "**Requirements:**\n",
        "- Use a **while loop** with a sentinel.\n",
        "- Use at least one **decision structure** (`if/elif/else`).\n",
        "- Follow **PEP 8** for naming, spacing, and comments.\n"
      ]
    },
    {
      "cell_type": "code",
      "execution_count": 19,
      "id": "bc2b0125",
      "metadata": {
        "id": "bc2b0125",
        "colab": {
          "base_uri": "https://localhost:8080/"
        },
        "outputId": "ead27f83-90b3-4f2e-d07a-e09b7e26666a"
      },
      "outputs": [
        {
          "output_type": "stream",
          "name": "stdout",
          "text": [
            "Please enter a number or press Enter to exit.5\n",
            "Please enter a number or press Enter to exit.8\n",
            "Please enter a number or press Enter to exit.3\n",
            "Please enter a number or press Enter to exit.\n",
            "count=3 min=3.0 max=8.0 sum=16.0 avg=5.333333333333333\n"
          ]
        }
      ],
      "source": [
        "# Your code here\n",
        "\n",
        "\n",
        "def stats_loop():\n",
        "    \"\"\" Use user input to add to a list and calculate various statistics. \"\"\"\n",
        "\n",
        "    total = 0.0\n",
        "    count = 0\n",
        "    num_list = []\n",
        "\n",
        "    # loop to track stats and add to list\n",
        "    while True:\n",
        "        str_number = input(\"Please enter a number or press Enter to exit.\")\n",
        "        if str_number == \"\":\n",
        "            break\n",
        "        try:\n",
        "            number = float(str_number)\n",
        "        except ValueError:\n",
        "            print(\"Please enter a number\")\n",
        "            continue\n",
        "        else:\n",
        "            num_list.append(number)\n",
        "            count += 1\n",
        "            total += number\n",
        "            minimum = min(num_list)\n",
        "            maximum = max(num_list)\n",
        "\n",
        "    # ensuring numbers were entered to print\n",
        "    if count > 0:\n",
        "        print(f\"count={count} min={minimum} max={maximum} sum={total} avg={total / count}\")\n",
        "    else:\n",
        "        print(\"No numbers entered\")\n",
        "\n",
        "stats_loop()\n",
        "\n",
        "\n",
        "\n",
        "\n",
        "\n",
        "\n",
        "\n",
        "\n",
        "\n"
      ]
    },
    {
      "cell_type": "markdown",
      "id": "cc1cb2cf",
      "metadata": {
        "id": "cc1cb2cf"
      },
      "source": [
        "\n",
        "## Program 2 — Password Attempts (Decisions + While)\n",
        "\n",
        "**Write:** `login_sim(correct_password: str, max_attempts: int = 3)`  \n",
        "- Prompt until the user enters the correct password or attempts are exhausted.  \n",
        "- Enforce a **policy**: at least 8 chars, contains a digit and a letter.  \n",
        "- Provide **specific feedback** for failures using `if/elif/else`.  \n",
        "- Use `try/except` only if you choose to add extra parsing; the main need here is decisions + while.\n",
        "\n",
        "**Tip:** Put the policy check in a **helper function** with a docstring.\n"
      ]
    },
    {
      "cell_type": "code",
      "execution_count": 28,
      "id": "cf5e5e3d",
      "metadata": {
        "id": "cf5e5e3d",
        "colab": {
          "base_uri": "https://localhost:8080/"
        },
        "outputId": "fdb86fc4-466d-492c-e965-098df9d66340"
      },
      "outputs": [
        {
          "output_type": "stream",
          "name": "stdout",
          "text": [
            "Please enter your password hfdgdfsg143\n",
            "Password correct\n",
            "Thank you!\n"
          ]
        }
      ],
      "source": [
        "# Your code here\n",
        "\n",
        "\n",
        "def login_sim():\n",
        "    \"\"\"Simulate a password login with validation and limited attempts.\"\"\"\n",
        "\n",
        "    max_attempts = 3\n",
        "    attempts = 0\n",
        "\n",
        "    def check_password(password: str)-> bool:\n",
        "        \"\"\" Checks and returns 'true' if password meets the policy. \"\"\"\n",
        "\n",
        "        # password validation\n",
        "        if(len(password) >= 8\n",
        "            and any(char.isdigit() for char in password)\n",
        "            and any(char.isalpha() for char in password)):\n",
        "            return True\n",
        "        else:\n",
        "            return False\n",
        "    # ensuring max_attempts is not reached\n",
        "    while attempts < max_attempts:\n",
        "        password = input(\"Please enter your password \")\n",
        "        if check_password(password):\n",
        "            correct_password = password\n",
        "            print(\"Password correct\")\n",
        "            break\n",
        "        else:\n",
        "            print(\"Invalid password: please try again \")\n",
        "            attempts += 1 # tracking attempts\n",
        "            continue\n",
        "    if not check_password(password) and attempts >= max_attempts:\n",
        "        print(\"Max attempts reached. Invalid password.\")\n",
        "    else:\n",
        "        print(\"Thank you!\")\n",
        "\n",
        "\n",
        "login_sim()\n",
        "\n",
        "\n",
        "\n"
      ]
    },
    {
      "cell_type": "markdown",
      "id": "9efbc851",
      "metadata": {
        "id": "9efbc851"
      },
      "source": [
        "\n",
        "## Program 3 — Collatz Analyzer (While + Decisions)\n",
        "\n",
        "**Write:** `collatz_steps(n: int) -> int` that returns the number of steps to reach 1 using the Collatz rules:  \n",
        "- If `n` is even, `n = n // 2`  \n",
        "- Else `n = 3*n + 1`\n",
        "\n",
        "**Then write:** `collatz_report(start: int, stop: int)` that prints the number between `start` and `stop` (inclusive) with the **maximum** steps and the step count.\n",
        "\n",
        "** Note there are two aspects of this question which are tricky.\n",
        "- [ ] the for loop in `collatz_report` is written `for num in (start, stop)`\n",
        "- [ ] you are calling `collatz_steps` from within `collatz_report` and it is this loop that keeps track of where the ** maximum ** steps and step count are found. So `collatz_steps` is **not** called from the main program\n",
        "\n",
        "**Requirements:**\n",
        "- Input validation with `try/except` in a wrapper `main()` that reads `start` and `stop` from the user.\n",
        "- Use a **for** loop in `collatz_report`; use a **while** loop in `collatz_steps`.\n",
        "- Use decisions appropriately.\n"
      ]
    },
    {
      "cell_type": "code",
      "execution_count": 55,
      "id": "6e7a622e",
      "metadata": {
        "id": "6e7a622e",
        "colab": {
          "base_uri": "https://localhost:8080/"
        },
        "outputId": "5ba4f838-5b44-4c32-d02a-f950339e9ef0"
      },
      "outputs": [
        {
          "output_type": "stream",
          "name": "stdout",
          "text": [
            "Please enter the starting integer 2\n",
            "Please enter the stop integer 5\n",
            "Max number: 6, Step count: 8\n"
          ]
        }
      ],
      "source": [
        "# your code here\n",
        "\n",
        "\n",
        "def main():\n",
        "    \"\"\" Wrapper function to validate start and stop. \"\"\"\n",
        "\n",
        "    try:\n",
        "        start = int(input(\"Please enter the starting integer \"))\n",
        "        stop = int(input(\"Please enter the stop integer \"))\n",
        "    except ValueError:\n",
        "        print(\"Invalid. Please enter an integer\")\n",
        "\n",
        "\n",
        "    def collatz_steps(n: int) -> int:\n",
        "        \"\"\" Returns the number of steps to reach 1 using the Collatz rules \"\"\"\n",
        "\n",
        "        # starting the loop off\n",
        "        steps = 0\n",
        "        while n != 1:\n",
        "            if n % 2 == 0:\n",
        "                n = n // 2\n",
        "            else:\n",
        "                n = 3 * n + 1\n",
        "            steps += 1 # tracking the steps to return\n",
        "        return steps\n",
        "\n",
        "\n",
        "    def collatz_report(start: int, stop: int):\n",
        "        \"\"\" Prints the (1)number between start and stop (inclusive) with\n",
        "        the maximum steps and (2)the step count\n",
        "        \"\"\"\n",
        "\n",
        "        max_number = start\n",
        "        max_steps = 0\n",
        "        step_count = 0\n",
        "\n",
        "        for num in range(start, stop + 1): # inclusive\n",
        "            curr_steps = collatz_steps(num)\n",
        "            # tracking the max\n",
        "            if(max_steps < curr_steps):\n",
        "              max_number = num\n",
        "              max_steps = curr_steps\n",
        "        print(f\"Max number: {max_number}, Step count: {max_steps}\")\n",
        "\n",
        "    collatz_report(start, stop + 1)\n",
        "\n",
        "main()\n",
        "\n",
        "\n",
        "\n",
        "\n",
        "\n",
        ""
      ]
    },
    {
      "cell_type": "markdown",
      "id": "c2ec00e1",
      "metadata": {
        "id": "c2ec00e1"
      },
      "source": [
        "\n",
        "## Program 4 — Grid Count (Nested Loops + Decisions)\n",
        "\n",
        "** this exercise we will skip as it is a nested loop structure, we will learn this next class - so you receive free points here."
      ]
    },
    {
      "cell_type": "code",
      "execution_count": null,
      "id": "daf5f519",
      "metadata": {
        "id": "daf5f519"
      },
      "outputs": [],
      "source": [
        "# your code here"
      ]
    },
    {
      "cell_type": "markdown",
      "id": "ecba85ff",
      "metadata": {
        "id": "ecba85ff"
      },
      "source": [
        "\n",
        "## Program 5 — Receipt Parser (While + Try/Except + Decisions)\n",
        "\n",
        "**Write:** `receipt_total()` that repeatedly reads lines like `item,quantity,price` until the user types `'done'`.  \n",
        "- Validate that `quantity` is an integer and `price` is a float.  \n",
        "- Accumulate a subtotal and print a formatted receipt at the end.  \n",
        "- Ignore malformed lines (warn and continue).\n",
        "\n",
        "**Example input:**\n",
        "```\n",
        "apple,2,1.25\n",
        "banana,3,0.60\n",
        "done\n",
        "```\n",
        "**Output end line:**\n",
        "```\n",
        "Items: 2  Units: 5  Subtotal: $3.65\n",
        "```\n"
      ]
    },
    {
      "cell_type": "code",
      "execution_count": 10,
      "id": "a2880a4b",
      "metadata": {
        "id": "a2880a4b",
        "colab": {
          "base_uri": "https://localhost:8080/"
        },
        "outputId": "bda05025-8b8a-41a4-ccda-1011d0458c09"
      },
      "outputs": [
        {
          "output_type": "stream",
          "name": "stdout",
          "text": [
            "Please enter an 'item','quantity','price' or type 'done': pea,3,4\n",
            "Please enter an 'item','quantity','price' or type 'done': f,2,g\n",
            "Please enter an 'item','quantity','price' or type 'done': done\n",
            "Items: 1, Units: 3, Subtotal: $ 12.00\n"
          ]
        }
      ],
      "source": [
        "# your code here\n",
        "\n",
        "\n",
        "def receipt_total():\n",
        "    \"\"\" Calculating a receipt using looped user input.\"\"\"\n",
        "\n",
        "    # starting off the tracking at 0\n",
        "    total_items = 0\n",
        "    total_units = 0\n",
        "    subtotal = 0\n",
        "\n",
        "    while True:\n",
        "        user_input = input(\"Please enter an 'item','quantity','price' or type 'done': \")\n",
        "        if user_input.strip().lower() == \"done\":\n",
        "            break\n",
        "        # split to validate specific types\n",
        "        try:\n",
        "            items = user_input.strip().split(\",\")\n",
        "            if len(items) != 3:\n",
        "                raise ValueError\n",
        "            item = items[0]\n",
        "            quantity = int(items[1])\n",
        "            price = float(items[2])\n",
        "            total_items += 1\n",
        "            total_units += quantity\n",
        "            subtotal += (quantity * price)\n",
        "        except Exception as e: # catching exceptions after type changing\n",
        "            continue\n",
        "    # catching if no valid items were entered\n",
        "    if total_items > 0:\n",
        "        print(f\"Items: {total_items}, Units: {total_units}, Subtotal: ${subtotal: .2f}\")\n",
        "    else:\n",
        "        print(\"No valid lists entered\")\n",
        "\n",
        "\n",
        "receipt_total()\n",
        "\n",
        "\n",
        "\n",
        ""
      ]
    },
    {
      "cell_type": "markdown",
      "id": "96844e4c",
      "metadata": {
        "id": "96844e4c"
      },
      "source": [
        "\n",
        "## Optional Challenge — Prime Gaps (For + Decisions)\n",
        "\n",
        "Write `is_prime(n: int) -> bool` and then `max_gap(a: int, b: int) -> tuple[int,int,int]` that returns `(p, q, gap)` where `p` and `q` are consecutive primes in `[a, b]` with the **largest** gap.\n",
        "\n",
        "- Use **for** loops and decisions; keep it simple and readable.\n"
      ]
    },
    {
      "cell_type": "code",
      "source": [
        "# please don't check- I didn't finish\n",
        "def max_gap(a: int, b: int) -> tuple[int, int, int]:\n",
        "  def is_prime(n: int) -> bool:\n",
        "    for i in range(2, int(n**0.5) + 1):\n",
        "      if n % i == 0:\n",
        "          return False\n",
        "      else:\n",
        "          return True\n",
        "\n",
        "  prev_prime = 0\n",
        "  max_gap = 0\n",
        "  p = 0\n",
        "  q = 0\n",
        "\n",
        "  for num in range(a, b):\n",
        "      if is_prime(num)\n",
        "        if prev_prime != 0:\n",
        "          gap = num - prev_prime\n",
        "          if(gap >= max_gap):\n",
        "            max_gap = gap\n",
        "            p = prev_prime\n",
        "            q = num\n",
        "        prev_prime = num\n",
        "\n",
        "\n",
        "\n",
        "\n",
        "\n",
        "\n",
        ""
      ],
      "metadata": {
        "id": "Em5yNbQ-y9nU"
      },
      "id": "Em5yNbQ-y9nU",
      "execution_count": null,
      "outputs": []
    },
    {
      "cell_type": "markdown",
      "id": "4eddd5e9",
      "metadata": {
        "id": "4eddd5e9"
      },
      "source": [
        "\n",
        "## Submission Checklist\n",
        "- [ ] I used `while` and/or `for` appropriately for each task.\n",
        "- [ ] I validated user input with `try/except` where required.\n",
        "- [ ] I used clear names, docstrings, and helpful comments.\n",
        "- [ ] I kept lines ≤ 79–99 chars and used proper whitespace.\n",
        "- [ ] ***  I have removed the reference to asserts as we have not learned this yet\n"
      ]
    },
    {
      "cell_type": "markdown",
      "id": "96a91da6",
      "metadata": {
        "id": "96a91da6"
      },
      "source": [
        "\n",
        "## Grading Rubric (25 pts)\n",
        "\n",
        "| Criterion | Points |\n",
        "|---|---:|\n",
        "| Program 1 — Stats loop (correctness + validation + clarity) | 6 |\n",
        "| Program 2 — Password attempts (logic + decisions + clarity) | 5 |\n",
        "| Program 3 — Collatz analyzer (while + for + validation) | 6 |\n",
        "| Program 4 — Grid count (nested loops + tests) | 5 |\n",
        "| Overall PEP 8 style & explanations | 3 |\n"
      ]
    }
  ],
  "metadata": {
    "colab": {
      "provenance": [],
      "include_colab_link": true
    },
    "language_info": {
      "name": "python"
    },
    "kernelspec": {
      "name": "python3",
      "display_name": "Python 3"
    }
  },
  "nbformat": 4,
  "nbformat_minor": 5
}