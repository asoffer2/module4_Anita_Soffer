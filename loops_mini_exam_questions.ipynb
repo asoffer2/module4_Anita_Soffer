{
  "cells": [
    {
      "cell_type": "markdown",
      "metadata": {
        "id": "view-in-github",
        "colab_type": "text"
      },
      "source": [
        "<a href=\"https://colab.research.google.com/github/asoffer2/module4_Anita_Soffer/blob/main/loops_mini_exam_questions.ipynb\" target=\"_parent\"><img src=\"https://colab.research.google.com/assets/colab-badge.svg\" alt=\"Open In Colab\"/></a>"
      ]
    },
    {
      "cell_type": "markdown",
      "id": "6e143f87",
      "metadata": {
        "id": "6e143f87"
      },
      "source": [
        "# Intro Loops Mini‑Exam — All Coding (5 Questions)\n",
        "**Topics:** `for`, `while`, `range`, `break`, `continue`, basic `if/else`, optional `try/except`\n",
        "\n",
        "### Rules\n",
        "- Use `range` where helpful.\n",
        "- **Do not use** `enumerate`, list comprehensions, or **nested loops**.\n",
        "- You may use simple `try/except` for input validation where the prompt asks for it.\n",
        "- Keep code clear and commented (brief intent comments are enough).\n",
        "\n",
        "### What to Submit\n",
        "- Complete the five problems below in the provided code cells.\n",
        "- Do **not** modify the problem statements.\n",
        "- Run each cell to ensure it executes (no crashes on valid inputs).\n",
        "\n",
        "### Academic Honesty\n",
        "- Write your own code. Keep solutions simple and readable.\n"
      ]
    },
    {
      "cell_type": "markdown",
      "id": "b26ce537",
      "metadata": {
        "id": "b26ce537"
      },
      "source": [
        "## 1) Count Up (for + range)\n",
        "Ask the user for a **positive integer `n`**. Print the numbers **1..n** on **one line** separated by spaces.\n",
        "- Use a `for` loop with `range`.\n",
        "- If the input isn’t a positive integer, print a friendly error and stop.\n"
      ]
    },
    {
      "cell_type": "code",
      "execution_count": 13,
      "id": "238370a9",
      "metadata": {
        "id": "238370a9",
        "problem": 1,
        "outputId": "e090ca6b-ee53-4388-8e8a-542c2777f124",
        "colab": {
          "base_uri": "https://localhost:8080/"
        }
      },
      "outputs": [
        {
          "output_type": "stream",
          "name": "stdout",
          "text": [
            "Please enter a positive integer: 9\n",
            "1 2 3 4 5 6 7 8 9 "
          ]
        }
      ],
      "source": [
        "# Write your solution here\n",
        "\n",
        "\n",
        "def main():\n",
        "\n",
        "    # catching value errors while switching types\n",
        "    try:\n",
        "        n = int(input(\"Please enter a positive integer: \"))\n",
        "    except ValueError:\n",
        "        print(\"Please enter an integer\")\n",
        "    # catching negative numbers\n",
        "    if n < 0:\n",
        "            print(\"Negative number detected. Exiting loop.\")\n",
        "    for i in range(1, n + 1):\n",
        "        if n < 0: # catching negative numbers\n",
        "            break\n",
        "        else:\n",
        "           print(i, end = \" \" ) # to print iterations on the same line\n",
        "\n",
        "main()\n",
        "\n",
        ""
      ]
    },
    {
      "cell_type": "markdown",
      "id": "2afee823",
      "metadata": {
        "id": "2afee823"
      },
      "source": [
        "## 2) Sum of Squares (for)\n",
        "Ask for a **positive integer `n`**. Compute and print **`1^2 + 2^2 + … + n^2`**.\n",
        "- Use a `for` loop.\n",
        "- Validate input (print an error and stop if invalid).\n"
      ]
    },
    {
      "cell_type": "code",
      "execution_count": 25,
      "id": "0f0ed988",
      "metadata": {
        "id": "0f0ed988",
        "problem": 2,
        "outputId": "b6dd277a-4fab-4871-c05f-21b76e69acc1",
        "colab": {
          "base_uri": "https://localhost:8080/"
        }
      },
      "outputs": [
        {
          "output_type": "stream",
          "name": "stdout",
          "text": [
            "Please enter a positive integer: -4\n",
            "Negative number detected, exiting loop.\n"
          ]
        }
      ],
      "source": [
        "# Write your solution here\n",
        "\n",
        "def main():\n",
        "\n",
        "    # catching value errors while switching type\n",
        "    try:\n",
        "        n = int(input(\"Please enter a positive integer: \"))\n",
        "    except ValueError:\n",
        "        print(\"Please enter an integer \")\n",
        "    if n < 0:\n",
        "        print(\"Negative number detected, exiting loop.\")\n",
        "\n",
        "    total = 0\n",
        "\n",
        "    for num in range(1, (n + 1)):\n",
        "        if n < 0: # catching negative numbers\n",
        "            break\n",
        "        if num == n:\n",
        "            print(num,\"^2\") # changing the print formatting for the last iteration\n",
        "        else:\n",
        "            print(num,\"^2 +\", end = \" \")\n",
        "        curr_num_squared =  (num ^ 2) # tracking num's current value to add to total\n",
        "        total += curr_num_squared # tracking the total\n",
        "    if n >= 0:\n",
        "        print(f\"Total: {total}\")\n",
        "\n",
        "main()\n",
        "\n",
        "\n"
      ]
    },
    {
      "cell_type": "markdown",
      "id": "13dd0fd1",
      "metadata": {
        "id": "13dd0fd1"
      },
      "source": [
        "## 3) Min/Max with “done” (while + try/except)\n",
        "Repeatedly read integers until the user types **`done`**. Ignore invalid entries with a warning.\n",
        "At the end:\n",
        "- If at least one valid number was entered, print `min = ___, max = ___`.\n",
        "- Otherwise print `No numbers entered.`\n",
        "- Use a `while True:` loop and `break` on `'done'`.\n"
      ]
    },
    {
      "cell_type": "code",
      "execution_count": 34,
      "id": "e8afc3b3",
      "metadata": {
        "id": "e8afc3b3",
        "problem": 3,
        "outputId": "2934f58e-fc69-45ee-9b6a-2cf67e565374",
        "colab": {
          "base_uri": "https://localhost:8080/"
        }
      },
      "outputs": [
        {
          "name": "stdout",
          "output_type": "stream",
          "text": [
            "Please enter an integer, or type 'done' to exit Done\n"
          ]
        }
      ],
      "source": [
        "# Write your solution here\n",
        "\n",
        "def main():\n",
        "\n",
        "    count = 0\n",
        "    curr_max = 0\n",
        "    curr_min = 10^1000000000000000 # forgot the built in for infinity\n",
        "\n",
        "    while True:\n",
        "        str_n = input(\"Please enter an integer, or type 'done' to exit \")\n",
        "        if str_n.lower().strip() == \"done\":\n",
        "            break # preventing infinite loop\n",
        "        else:\n",
        "            # validating at the type change to catch value error\n",
        "            try:\n",
        "                n = int(str_n)\n",
        "            except ValueError:\n",
        "                print(\"Please enter an integer\")\n",
        "                continue\n",
        "            if n > curr_max:\n",
        "                curr_max = n\n",
        "            if n < curr_min:\n",
        "                curr_min = n\n",
        "            count += 1 # tracking count to make sure there are values to print\n",
        "    if count > 0:\n",
        "        print(f\"min= {curr_min}, max= {curr_max}\")\n",
        "\n",
        "main()\n",
        "\n",
        "\n"
      ]
    },
    {
      "cell_type": "markdown",
      "id": "950eed12",
      "metadata": {
        "id": "950eed12"
      },
      "source": [
        "## 4) Skip & Stop (for + continue/break)\n",
        "Ask for a **positive integer `n`** (upper bound).\n",
        "- Loop from **1..n**.\n",
        "- **Skip** (do not print) numbers that are multiples of **4** using `continue`.\n",
        "- If you reach **42**, **print 42 and then stop** the loop using `break`.\n",
        "- Each printed number goes on its own line.\n",
        "- Validate input; print an error and stop if invalid.\n"
      ]
    },
    {
      "cell_type": "code",
      "execution_count": 48,
      "id": "cfd13035",
      "metadata": {
        "id": "cfd13035",
        "problem": 4,
        "outputId": "86a264b3-9cbd-4d0f-c0f9-4b3f2dd19d5f",
        "colab": {
          "base_uri": "https://localhost:8080/"
        }
      },
      "outputs": [
        {
          "output_type": "stream",
          "name": "stdout",
          "text": [
            "Please enter an integer greater than 1: 80\n",
            "1\n",
            "2\n",
            "3\n",
            "5\n",
            "6\n",
            "7\n",
            "9\n",
            "10\n",
            "11\n",
            "13\n",
            "14\n",
            "15\n",
            "17\n",
            "18\n",
            "19\n",
            "21\n",
            "22\n",
            "23\n",
            "25\n",
            "26\n",
            "27\n",
            "29\n",
            "30\n",
            "31\n",
            "33\n",
            "34\n",
            "35\n",
            "37\n",
            "38\n",
            "39\n",
            "41\n",
            "42\n"
          ]
        }
      ],
      "source": [
        "# Write your solution here\n",
        "\n",
        "def main():\n",
        "\n",
        "    # catching value errors while switching type\n",
        "    try:\n",
        "        n = int(input(\"Please enter an integer greater than 1: \"))\n",
        "    except ValueError:\n",
        "        print(\"Please enter an integer\") # type: stop if invalid\n",
        "    if n <= 1:\n",
        "        print(\"Number not in range. Exiting\") # range: stop if invalid\n",
        "    else:\n",
        "        for i in range (1, n + 1):\n",
        "            if i % 4 == 0: # skip numbers divisible by 4\n",
        "                continue\n",
        "            else:\n",
        "                print(i) # to print on separate lines\n",
        "            if i == 42:\n",
        "                break\n",
        "\n",
        "main()\n",
        "\n",
        "\n"
      ]
    },
    {
      "cell_type": "markdown",
      "id": "34d640d5",
      "metadata": {
        "id": "34d640d5"
      },
      "source": [
        "## 5) Even Sum with Entry Limit (while + try/except)\n",
        "Ask for a **target count `k`** (how many entries to read). Then read up to `k` user inputs (one per loop).\n",
        "- Convert each to `int` with `try/except`.\n",
        "- Keep a running **sum of even numbers only** (ignore odds and invalid entries).\n",
        "- After `k` inputs, print `even_sum = ___, valid_evens = ___`.\n",
        "- If `k` isn’t a positive integer, print an error and stop.\n"
      ]
    },
    {
      "cell_type": "code",
      "execution_count": 64,
      "id": "a7717a90",
      "metadata": {
        "id": "a7717a90",
        "problem": 5,
        "outputId": "503b5162-c3e0-46a4-a8a6-86b7a7ca5bd8",
        "colab": {
          "base_uri": "https://localhost:8080/"
        }
      },
      "outputs": [
        {
          "output_type": "stream",
          "name": "stdout",
          "text": [
            "Please enter a target count: 4\n",
            "Please enter an integer: 2\n",
            "Please enter an integer: 5\n",
            "Please enter an integer: 2\n",
            "Please enter an integer: 6\n",
            "even_sum = 10, valid_evens = [2, 2, 6]\n"
          ]
        }
      ],
      "source": [
        "# Write your solution here\n",
        "\n",
        "def main():\n",
        "\n",
        "    # catching value errors while switching type\n",
        "    try:\n",
        "        k = int(input(\"Please enter a target count: \"))\n",
        "    except ValueError:\n",
        "        print(\"Non integer detected. Exiting.\")\n",
        "\n",
        "    # starting off the loop with respective values\n",
        "    count = 0\n",
        "    even_sum = 0\n",
        "    valid_evens = []\n",
        "\n",
        "    while count < k: # setting k as the ceiling\n",
        "        try:\n",
        "            n = int(input(\"Please enter an integer: \"))\n",
        "        except ValueError:\n",
        "            print(\"Non integer detected. Exiting.\")\n",
        "            break\n",
        "        if n % 2 == 0:\n",
        "            # conditions only if iteration is even\n",
        "            even_sum += n\n",
        "            valid_evens.append(n)\n",
        "            count += 1\n",
        "        else:\n",
        "            count += 1 # number is added to the count even if odd\n",
        "            continue\n",
        "\n",
        "    print(f\"even_sum = {even_sum}, valid_evens = {valid_evens}\")\n",
        "\n",
        "main()\n"
      ]
    },
    {
      "cell_type": "markdown",
      "source": [
        "## 6)  How long did you work on this quiz ? Was this quiz : hard, easy, just right ?"
      ],
      "metadata": {
        "id": "m9THXy-oU-Ud"
      },
      "id": "m9THXy-oU-Ud"
    },
    {
      "cell_type": "markdown",
      "source": [
        "An hour and 50 minutes- I made a mistake with the last one and it took time to figure out. Quiz was just right, thanks! I like that it was untimed so i could properly think through and catch my mistakes."
      ],
      "metadata": {
        "id": "IzQbO93tVKDv"
      },
      "id": "IzQbO93tVKDv"
    }
  ],
  "metadata": {
    "kernelspec": {
      "display_name": "Python 3",
      "language": "python",
      "name": "python3"
    },
    "language_info": {
      "name": "python"
    },
    "colab": {
      "provenance": [],
      "include_colab_link": true
    }
  },
  "nbformat": 4,
  "nbformat_minor": 5
}